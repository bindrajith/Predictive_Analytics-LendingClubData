{
 "cells": [
  {
   "cell_type": "code",
   "execution_count": 1,
   "metadata": {},
   "outputs": [],
   "source": [
    "## import libraries\n",
    "import pandas as pd\n",
    "import numpy as np\n",
    "import seaborn as sns\n",
    "import pyspark.sql.functions as f\n",
    "from pyspark.sql.types import IntegerType\n",
    "from pyspark.sql.functions import *\n",
    "import matplotlib.pyplot as plt\n",
    "# Import all functions from pyspark.sql.functions, including col etc to manipulate columns\n",
    "from pyspark.sql.functions import *\n",
    "# Vector Assembler\n",
    "from pyspark.ml.feature import VectorAssembler\n",
    "# Linear Regression Analysis\n",
    "from pyspark.ml.regression import LinearRegression\n",
    "# Standardisation\n",
    "from pyspark.ml.feature import StandardScaler\n",
    "# StringIndexer\n",
    "from pyspark.ml.feature import *\n",
    "# RegressionEvaluator\n",
    "from pyspark.ml.evaluation import RegressionEvaluator\n",
    "#Param Grid Search libraries\n",
    "from pyspark.ml.tuning import ParamGridBuilder, TrainValidationSplit"
   ]
  },
  {
   "cell_type": "code",
   "execution_count": 2,
   "metadata": {},
   "outputs": [],
   "source": [
    "!hdfs dfs -put /home/master/Downloads/LC"
   ]
  },
  {
   "cell_type": "code",
   "execution_count": 3,
   "metadata": {},
   "outputs": [
    {
     "name": "stdout",
     "output_type": "stream",
     "text": [
      "Found 4 items\r\n",
      "-rw-r--r--   1 master supergroup   48669611 2019-02-15 19:28 LC/LoanStats_2017Q1.csv\r\n",
      "-rw-r--r--   1 master supergroup   53047611 2019-02-15 19:28 LC/LoanStats_2017Q2.csv\r\n",
      "-rw-r--r--   1 master supergroup   61960082 2019-02-15 19:28 LC/LoanStats_2017Q3.csv\r\n",
      "-rw-r--r--   1 master supergroup   59676775 2019-02-15 19:28 LC/LoanStats_2017Q4.csv\r\n"
     ]
    }
   ],
   "source": [
    "!hdfs dfs -ls LC"
   ]
  },
  {
   "cell_type": "code",
   "execution_count": 2,
   "metadata": {},
   "outputs": [],
   "source": [
    "loans = spark.read.format(\"com.databricks.spark.csv\")\\\n",
    ".option(\"header\", \"true\")\\\n",
    ".option(\"inferSchema\", \"true\").\\\n",
    "load([\"hdfs://localhost:8020/user/master/LC/LoanStats_2017Q1.csv\",\n",
    "     \"hdfs://localhost:8020/user/master/LC/LoanStats_2017Q2.csv\",\n",
    "     \"hdfs://localhost:8020/user/master/LC/LoanStats_2017Q3.csv\",\n",
    "     \"hdfs://localhost:8020/user/master/LC/LoanStats_2017Q4.csv\"])"
   ]
  },
  {
   "cell_type": "code",
   "execution_count": 3,
   "metadata": {},
   "outputs": [
    {
     "data": {
      "text/plain": [
       "pyspark.sql.dataframe.DataFrame"
      ]
     },
     "execution_count": 3,
     "metadata": {},
     "output_type": "execute_result"
    }
   ],
   "source": [
    "# type\n",
    "type(loans)"
   ]
  },
  {
   "cell_type": "code",
   "execution_count": 3,
   "metadata": {},
   "outputs": [
    {
     "data": {
      "text/plain": [
       "443080"
      ]
     },
     "execution_count": 3,
     "metadata": {},
     "output_type": "execute_result"
    }
   ],
   "source": [
    "loans.count()"
   ]
  },
  {
   "cell_type": "code",
   "execution_count": 6,
   "metadata": {},
   "outputs": [
    {
     "data": {
      "text/plain": [
       "DataFrame[id: string, member_id: string, loan_amnt: string, funded_amnt: string, funded_amnt_inv: string, term: string, int_rate: string, installment: string, grade: string, sub_grade: string, emp_title: string, emp_length: string, home_ownership: string, annual_inc: string, verification_status: string, issue_d: string, loan_status: string, pymnt_plan: string, url: string, desc: string, purpose: string, title: string, zip_code: string, addr_state: string, dti: string, delinq_2yrs: string, earliest_cr_line: string, inq_last_6mths: string, mths_since_last_delinq: string, mths_since_last_record: string, open_acc: string, pub_rec: string, revol_bal: string, revol_util: string, total_acc: string, initial_list_status: string, out_prncp: string, out_prncp_inv: string, total_pymnt: string, total_pymnt_inv: string, total_rec_prncp: string, total_rec_int: string, total_rec_late_fee: string, recoveries: string, collection_recovery_fee: string, last_pymnt_d: string, last_pymnt_amnt: string, next_pymnt_d: string, last_credit_pull_d: string, collections_12_mths_ex_med: string, mths_since_last_major_derog: string, policy_code: string, application_type: string, annual_inc_joint: string, dti_joint: string, verification_status_joint: string, acc_now_delinq: string, tot_coll_amt: string, tot_cur_bal: string, open_acc_6m: string, open_act_il: string, open_il_12m: string, open_il_24m: string, mths_since_rcnt_il: string, total_bal_il: string, il_util: string, open_rv_12m: string, open_rv_24m: string, max_bal_bc: string, all_util: string, total_rev_hi_lim: string, inq_fi: string, total_cu_tl: string, inq_last_12m: string, acc_open_past_24mths: string, avg_cur_bal: string, bc_open_to_buy: string, bc_util: string, chargeoff_within_12_mths: string, delinq_amnt: string, mo_sin_old_il_acct: string, mo_sin_old_rev_tl_op: string, mo_sin_rcnt_rev_tl_op: string, mo_sin_rcnt_tl: string, mort_acc: string, mths_since_recent_bc: string, mths_since_recent_bc_dlq: string, mths_since_recent_inq: string, mths_since_recent_revol_delinq: string, num_accts_ever_120_pd: string, num_actv_bc_tl: string, num_actv_rev_tl: string, num_bc_sats: string, num_bc_tl: string, num_il_tl: string, num_op_rev_tl: string, num_rev_accts: string, num_rev_tl_bal_gt_0: string, num_sats: string, num_tl_120dpd_2m: string, num_tl_30dpd: string, num_tl_90g_dpd_24m: string, num_tl_op_past_12m: string, pct_tl_nvr_dlq: string, percent_bc_gt_75: string, pub_rec_bankruptcies: string, tax_liens: string, tot_hi_cred_lim: string, total_bal_ex_mort: string, total_bc_limit: string, total_il_high_credit_limit: string, revol_bal_joint: string, sec_app_earliest_cr_line: string, sec_app_inq_last_6mths: string, sec_app_mort_acc: string, sec_app_open_acc: string, sec_app_revol_util: string, sec_app_open_act_il: string, sec_app_num_rev_accts: string, sec_app_chargeoff_within_12_mths: string, sec_app_collections_12_mths_ex_med: string, sec_app_mths_since_last_major_derog: string, hardship_flag: string, hardship_type: string, hardship_reason: string, hardship_status: string, deferral_term: string, hardship_amount: string, hardship_start_date: string, hardship_end_date: string, payment_plan_start_date: string, hardship_length: string, hardship_dpd: string, hardship_loan_status: string, orig_projected_additional_accrued_interest: string, hardship_payoff_balance_amount: string, hardship_last_payment_amount: string, disbursement_method: string, debt_settlement_flag: string, debt_settlement_flag_date: string, settlement_status: string, settlement_date: string, settlement_amount: string, settlement_percentage: string, settlement_term;: string]"
      ]
     },
     "execution_count": 6,
     "metadata": {},
     "output_type": "execute_result"
    }
   ],
   "source": [
    "# in-memory-usage\n",
    "loans.cache()"
   ]
  },
  {
   "cell_type": "code",
   "execution_count": 3,
   "metadata": {},
   "outputs": [],
   "source": [
    "loans.createOrReplaceTempView(\"loans\")"
   ]
  },
  {
   "cell_type": "code",
   "execution_count": 8,
   "metadata": {},
   "outputs": [
    {
     "name": "stdout",
     "output_type": "stream",
     "text": [
      "+----+---------+---------+-----------+---------------+----------+--------+-----------+-----+---------+--------------+----------+--------------+----------+-------------------+--------+-----------+----------+----+----+------------------+------------------+--------+----------+----+-----------+----------------+--------------+----------------------+----------------------+--------+-------+---------+----------+---------+-------------------+---------+-------------+----------------+---------------+---------------+-------------+------------------+----------+-----------------------+------------+---------------+------------+------------------+--------------------------+---------------------------+-----------+----------------+----------------+---------+-------------------------+--------------+------------+-----------+-----------+-----------+-----------+-----------+------------------+------------+-------+-----------+-----------+----------+--------+----------------+------+-----------+------------+--------------------+-----------+--------------+-------+------------------------+-----------+------------------+--------------------+---------------------+--------------+--------+--------------------+------------------------+---------------------+------------------------------+---------------------+--------------+---------------+-----------+---------+---------+-------------+-------------+-------------------+--------+----------------+------------+------------------+------------------+--------------+----------------+--------------------+---------+---------------+-----------------+--------------+--------------------------+---------------+------------------------+----------------------+----------------+----------------+------------------+-------------------+---------------------+--------------------------------+----------------------------------+-----------------------------------+-------------+-------------+---------------+---------------+-------------+---------------+-------------------+-----------------+-----------------------+---------------+------------+--------------------+------------------------------------------+------------------------------+----------------------------+-------------------+--------------------+-------------------------+-----------------+---------------+-----------------+---------------------+----------------+\n",
      "|  id|member_id|loan_amnt|funded_amnt|funded_amnt_inv|      term|int_rate|installment|grade|sub_grade|     emp_title|emp_length|home_ownership|annual_inc|verification_status| issue_d|loan_status|pymnt_plan| url|desc|           purpose|             title|zip_code|addr_state| dti|delinq_2yrs|earliest_cr_line|inq_last_6mths|mths_since_last_delinq|mths_since_last_record|open_acc|pub_rec|revol_bal|revol_util|total_acc|initial_list_status|out_prncp|out_prncp_inv|     total_pymnt|total_pymnt_inv|total_rec_prncp|total_rec_int|total_rec_late_fee|recoveries|collection_recovery_fee|last_pymnt_d|last_pymnt_amnt|next_pymnt_d|last_credit_pull_d|collections_12_mths_ex_med|mths_since_last_major_derog|policy_code|application_type|annual_inc_joint|dti_joint|verification_status_joint|acc_now_delinq|tot_coll_amt|tot_cur_bal|open_acc_6m|open_act_il|open_il_12m|open_il_24m|mths_since_rcnt_il|total_bal_il|il_util|open_rv_12m|open_rv_24m|max_bal_bc|all_util|total_rev_hi_lim|inq_fi|total_cu_tl|inq_last_12m|acc_open_past_24mths|avg_cur_bal|bc_open_to_buy|bc_util|chargeoff_within_12_mths|delinq_amnt|mo_sin_old_il_acct|mo_sin_old_rev_tl_op|mo_sin_rcnt_rev_tl_op|mo_sin_rcnt_tl|mort_acc|mths_since_recent_bc|mths_since_recent_bc_dlq|mths_since_recent_inq|mths_since_recent_revol_delinq|num_accts_ever_120_pd|num_actv_bc_tl|num_actv_rev_tl|num_bc_sats|num_bc_tl|num_il_tl|num_op_rev_tl|num_rev_accts|num_rev_tl_bal_gt_0|num_sats|num_tl_120dpd_2m|num_tl_30dpd|num_tl_90g_dpd_24m|num_tl_op_past_12m|pct_tl_nvr_dlq|percent_bc_gt_75|pub_rec_bankruptcies|tax_liens|tot_hi_cred_lim|total_bal_ex_mort|total_bc_limit|total_il_high_credit_limit|revol_bal_joint|sec_app_earliest_cr_line|sec_app_inq_last_6mths|sec_app_mort_acc|sec_app_open_acc|sec_app_revol_util|sec_app_open_act_il|sec_app_num_rev_accts|sec_app_chargeoff_within_12_mths|sec_app_collections_12_mths_ex_med|sec_app_mths_since_last_major_derog|hardship_flag|hardship_type|hardship_reason|hardship_status|deferral_term|hardship_amount|hardship_start_date|hardship_end_date|payment_plan_start_date|hardship_length|hardship_dpd|hardship_loan_status|orig_projected_additional_accrued_interest|hardship_payoff_balance_amount|hardship_last_payment_amount|disbursement_method|debt_settlement_flag|debt_settlement_flag_date|settlement_status|settlement_date|settlement_amount|settlement_percentage|settlement_term;|\n",
      "+----+---------+---------+-----------+---------------+----------+--------+-----------+-----+---------+--------------+----------+--------------+----------+-------------------+--------+-----------+----------+----+----+------------------+------------------+--------+----------+----+-----------+----------------+--------------+----------------------+----------------------+--------+-------+---------+----------+---------+-------------------+---------+-------------+----------------+---------------+---------------+-------------+------------------+----------+-----------------------+------------+---------------+------------+------------------+--------------------------+---------------------------+-----------+----------------+----------------+---------+-------------------------+--------------+------------+-----------+-----------+-----------+-----------+-----------+------------------+------------+-------+-----------+-----------+----------+--------+----------------+------+-----------+------------+--------------------+-----------+--------------+-------+------------------------+-----------+------------------+--------------------+---------------------+--------------+--------+--------------------+------------------------+---------------------+------------------------------+---------------------+--------------+---------------+-----------+---------+---------+-------------+-------------+-------------------+--------+----------------+------------+------------------+------------------+--------------+----------------+--------------------+---------+---------------+-----------------+--------------+--------------------------+---------------+------------------------+----------------------+----------------+----------------+------------------+-------------------+---------------------+--------------------------------+----------------------------------+-----------------------------------+-------------+-------------+---------------+---------------+-------------+---------------+-------------------+-----------------+-----------------------+---------------+------------+--------------------+------------------------------------------+------------------------------+----------------------------+-------------------+--------------------+-------------------------+-----------------+---------------+-----------------+---------------------+----------------+\n",
      "|null|     null|    16000|      16000|          16000| 60 months|  12.74%|     361.93|    C|       C1|claims analyst| 10+ years|      MORTGAGE|    130000|       Not Verified|Mar-2017| Fully Paid|         n|null|null|debt_consolidation|Debt consolidation|   577xx|        SD|8.28|          0|        Jul-1995|             0|                    42|                    79|      16|      1|     8595|     25.8%|       48|                  w|     0.00|         0.00|18001.0211705216|       18001.02|       16000.00|      2001.02|               0.0|       0.0|                    0.0|    Apr-2018|       14042.44|        null|          Dec-2018|                         0|                       null|          1|      Individual|            null|     null|                     null|             0|           0|      44263|          0|          3|          1|          2|                 8|       35668|     77|          2|          6|      4566|      56|           33300|     3|          9|           6|                   8|       2766|          3350|   58.1|                       0|          0|               141|                 260|                   10|             8|       3|                  23|                    null|                    8|                            42|                    0|             2|              5|          2|       12|       12|           13|           33|                  5|      16|               0|           0|                 0|                 3|          97.6|              50|                   1|        0|          79751|            44263|          8000|                     46451|           null|                    null|                  null|            null|            null|              null|               null|                 null|                            null|                              null|                               null|            N|         null|           null|           null|         null|           null|               null|             null|                   null|           null|        null|                null|                                      null|                          null|                        null|               Cash|                   N|                     null|             null|           null|             null|                 null|               ;|\n",
      "+----+---------+---------+-----------+---------------+----------+--------+-----------+-----+---------+--------------+----------+--------------+----------+-------------------+--------+-----------+----------+----+----+------------------+------------------+--------+----------+----+-----------+----------------+--------------+----------------------+----------------------+--------+-------+---------+----------+---------+-------------------+---------+-------------+----------------+---------------+---------------+-------------+------------------+----------+-----------------------+------------+---------------+------------+------------------+--------------------------+---------------------------+-----------+----------------+----------------+---------+-------------------------+--------------+------------+-----------+-----------+-----------+-----------+-----------+------------------+------------+-------+-----------+-----------+----------+--------+----------------+------+-----------+------------+--------------------+-----------+--------------+-------+------------------------+-----------+------------------+--------------------+---------------------+--------------+--------+--------------------+------------------------+---------------------+------------------------------+---------------------+--------------+---------------+-----------+---------+---------+-------------+-------------+-------------------+--------+----------------+------------+------------------+------------------+--------------+----------------+--------------------+---------+---------------+-----------------+--------------+--------------------------+---------------+------------------------+----------------------+----------------+----------------+------------------+-------------------+---------------------+--------------------------------+----------------------------------+-----------------------------------+-------------+-------------+---------------+---------------+-------------+---------------+-------------------+-----------------+-----------------------+---------------+------------+--------------------+------------------------------------------+------------------------------+----------------------------+-------------------+--------------------+-------------------------+-----------------+---------------+-----------------+---------------------+----------------+\n",
      "\n"
     ]
    }
   ],
   "source": [
    "spark.sql(\"SELECT * FROM loans LIMIT 1\").show(n=1)"
   ]
  },
  {
   "cell_type": "code",
   "execution_count": 21,
   "metadata": {
    "scrolled": true
   },
   "outputs": [
    {
     "data": {
      "text/html": [
       "<div>\n",
       "<style scoped>\n",
       "    .dataframe tbody tr th:only-of-type {\n",
       "        vertical-align: middle;\n",
       "    }\n",
       "\n",
       "    .dataframe tbody tr th {\n",
       "        vertical-align: top;\n",
       "    }\n",
       "\n",
       "    .dataframe thead th {\n",
       "        text-align: right;\n",
       "    }\n",
       "</style>\n",
       "<table border=\"1\" class=\"dataframe\">\n",
       "  <thead>\n",
       "    <tr style=\"text-align: right;\">\n",
       "      <th></th>\n",
       "      <th>id</th>\n",
       "      <th>member_id</th>\n",
       "      <th>loan_amnt</th>\n",
       "      <th>funded_amnt</th>\n",
       "      <th>funded_amnt_inv</th>\n",
       "      <th>term</th>\n",
       "      <th>int_rate</th>\n",
       "      <th>installment</th>\n",
       "      <th>grade</th>\n",
       "      <th>sub_grade</th>\n",
       "      <th>...</th>\n",
       "      <th>debt_settlement_flag</th>\n",
       "      <th>debt_settlement_flag_date</th>\n",
       "      <th>settlement_status</th>\n",
       "      <th>settlement_date</th>\n",
       "      <th>settlement_amount</th>\n",
       "      <th>settlement_percentage</th>\n",
       "      <th>settlement_term;</th>\n",
       "      <th>_c145</th>\n",
       "      <th>_c146</th>\n",
       "      <th>_c147</th>\n",
       "    </tr>\n",
       "  </thead>\n",
       "  <tbody>\n",
       "    <tr>\n",
       "      <th>0</th>\n",
       "      <td>None</td>\n",
       "      <td>None</td>\n",
       "      <td>16000</td>\n",
       "      <td>16000</td>\n",
       "      <td>16000</td>\n",
       "      <td>60</td>\n",
       "      <td>12.74</td>\n",
       "      <td>361.93</td>\n",
       "      <td>C</td>\n",
       "      <td>C1</td>\n",
       "      <td>...</td>\n",
       "      <td>N</td>\n",
       "      <td>None</td>\n",
       "      <td>None</td>\n",
       "      <td>None</td>\n",
       "      <td>None</td>\n",
       "      <td>None</td>\n",
       "      <td>;</td>\n",
       "      <td>None</td>\n",
       "      <td>None</td>\n",
       "      <td>None</td>\n",
       "    </tr>\n",
       "    <tr>\n",
       "      <th>1</th>\n",
       "      <td>None</td>\n",
       "      <td>None</td>\n",
       "      <td>11875</td>\n",
       "      <td>11875</td>\n",
       "      <td>11875</td>\n",
       "      <td>36</td>\n",
       "      <td>11.44</td>\n",
       "      <td>391.26</td>\n",
       "      <td>B</td>\n",
       "      <td>B4</td>\n",
       "      <td>...</td>\n",
       "      <td>N</td>\n",
       "      <td>None</td>\n",
       "      <td>None</td>\n",
       "      <td>None</td>\n",
       "      <td>None</td>\n",
       "      <td>None</td>\n",
       "      <td>;</td>\n",
       "      <td>None</td>\n",
       "      <td>None</td>\n",
       "      <td>None</td>\n",
       "    </tr>\n",
       "    <tr>\n",
       "      <th>2</th>\n",
       "      <td>None</td>\n",
       "      <td>None</td>\n",
       "      <td>12000</td>\n",
       "      <td>12000</td>\n",
       "      <td>12000</td>\n",
       "      <td>36</td>\n",
       "      <td>7.99</td>\n",
       "      <td>375.99</td>\n",
       "      <td>A</td>\n",
       "      <td>A5</td>\n",
       "      <td>...</td>\n",
       "      <td>N</td>\n",
       "      <td>None</td>\n",
       "      <td>None</td>\n",
       "      <td>None</td>\n",
       "      <td>None</td>\n",
       "      <td>None</td>\n",
       "      <td>;</td>\n",
       "      <td>None</td>\n",
       "      <td>None</td>\n",
       "      <td>None</td>\n",
       "    </tr>\n",
       "    <tr>\n",
       "      <th>3</th>\n",
       "      <td>None</td>\n",
       "      <td>None</td>\n",
       "      <td>25000</td>\n",
       "      <td>25000</td>\n",
       "      <td>25000</td>\n",
       "      <td>36</td>\n",
       "      <td>15.99</td>\n",
       "      <td>878.81</td>\n",
       "      <td>C</td>\n",
       "      <td>C5</td>\n",
       "      <td>...</td>\n",
       "      <td>N</td>\n",
       "      <td>None</td>\n",
       "      <td>None</td>\n",
       "      <td>None</td>\n",
       "      <td>None</td>\n",
       "      <td>None</td>\n",
       "      <td>;</td>\n",
       "      <td>None</td>\n",
       "      <td>None</td>\n",
       "      <td>None</td>\n",
       "    </tr>\n",
       "    <tr>\n",
       "      <th>4</th>\n",
       "      <td>None</td>\n",
       "      <td>None</td>\n",
       "      <td>1500</td>\n",
       "      <td>1500</td>\n",
       "      <td>1500</td>\n",
       "      <td>36</td>\n",
       "      <td>5.32</td>\n",
       "      <td>45.18</td>\n",
       "      <td>A</td>\n",
       "      <td>A1</td>\n",
       "      <td>...</td>\n",
       "      <td>N</td>\n",
       "      <td>None</td>\n",
       "      <td>None</td>\n",
       "      <td>None</td>\n",
       "      <td>None</td>\n",
       "      <td>None</td>\n",
       "      <td>;</td>\n",
       "      <td>None</td>\n",
       "      <td>None</td>\n",
       "      <td>None</td>\n",
       "    </tr>\n",
       "  </tbody>\n",
       "</table>\n",
       "<p>5 rows × 148 columns</p>\n",
       "</div>"
      ],
      "text/plain": [
       "     id member_id loan_amnt funded_amnt funded_amnt_inv term int_rate  \\\n",
       "0  None      None     16000       16000           16000   60    12.74   \n",
       "1  None      None     11875       11875           11875   36    11.44   \n",
       "2  None      None     12000       12000           12000   36     7.99   \n",
       "3  None      None     25000       25000           25000   36    15.99   \n",
       "4  None      None      1500        1500            1500   36     5.32   \n",
       "\n",
       "  installment grade sub_grade  ... debt_settlement_flag  \\\n",
       "0      361.93     C        C1  ...                    N   \n",
       "1      391.26     B        B4  ...                    N   \n",
       "2      375.99     A        A5  ...                    N   \n",
       "3      878.81     C        C5  ...                    N   \n",
       "4       45.18     A        A1  ...                    N   \n",
       "\n",
       "  debt_settlement_flag_date settlement_status settlement_date  \\\n",
       "0                      None              None            None   \n",
       "1                      None              None            None   \n",
       "2                      None              None            None   \n",
       "3                      None              None            None   \n",
       "4                      None              None            None   \n",
       "\n",
       "  settlement_amount settlement_percentage settlement_term; _c145 _c146 _c147  \n",
       "0              None                  None                ;  None  None  None  \n",
       "1              None                  None                ;  None  None  None  \n",
       "2              None                  None                ;  None  None  None  \n",
       "3              None                  None                ;  None  None  None  \n",
       "4              None                  None                ;  None  None  None  \n",
       "\n",
       "[5 rows x 148 columns]"
      ]
     },
     "execution_count": 21,
     "metadata": {},
     "output_type": "execute_result"
    }
   ],
   "source": [
    "spark.sql(\"SELECT * FROM loans LIMIT 5\").toPandas().head(5)"
   ]
  },
  {
   "cell_type": "code",
   "execution_count": 4,
   "metadata": {},
   "outputs": [],
   "source": [
    "loans_a = loans['int_rate','loan_amnt','term', 'grade', 'sub_grade', 'emp_length', 'home_ownership', 'annual_inc','verification_status','purpose','addr_state', 'open_acc']"
   ]
  },
  {
   "cell_type": "code",
   "execution_count": 5,
   "metadata": {},
   "outputs": [],
   "source": [
    "loans_a = loans_a.withColumn(\"loan_amnt\", loans_a[\"loan_amnt\"].cast(IntegerType()))\n",
    "loans_a = loans_a.withColumn(\"term\", loans_a[\"term\"].cast(IntegerType()))\n",
    "loans_a = loans_a.withColumn(\"emp_length\", loans_a[\"emp_length\"].cast(IntegerType()))\n",
    "loans_a = loans_a.withColumn(\"annual_inc\", loans_a[\"annual_inc\"].cast(IntegerType()))\n",
    "loans_a = loans_a.withColumn(\"open_acc\", loans_a[\"open_acc\"].cast(IntegerType()))\n",
    "loans_a = loans_a.withColumn(\"int_rate\", loans_a[\"int_rate\"].cast(IntegerType()))"
   ]
  },
  {
   "cell_type": "code",
   "execution_count": 11,
   "metadata": {},
   "outputs": [
    {
     "data": {
      "text/html": [
       "<div>\n",
       "<style scoped>\n",
       "    .dataframe tbody tr th:only-of-type {\n",
       "        vertical-align: middle;\n",
       "    }\n",
       "\n",
       "    .dataframe tbody tr th {\n",
       "        vertical-align: top;\n",
       "    }\n",
       "\n",
       "    .dataframe thead th {\n",
       "        text-align: right;\n",
       "    }\n",
       "</style>\n",
       "<table border=\"1\" class=\"dataframe\">\n",
       "  <thead>\n",
       "    <tr style=\"text-align: right;\">\n",
       "      <th></th>\n",
       "      <th>int_rate</th>\n",
       "      <th>loan_amnt</th>\n",
       "      <th>term</th>\n",
       "      <th>grade</th>\n",
       "      <th>sub_grade</th>\n",
       "      <th>emp_length</th>\n",
       "      <th>home_ownership</th>\n",
       "      <th>annual_inc</th>\n",
       "      <th>verification_status</th>\n",
       "      <th>purpose</th>\n",
       "      <th>addr_state</th>\n",
       "      <th>open_acc</th>\n",
       "    </tr>\n",
       "  </thead>\n",
       "  <tbody>\n",
       "    <tr>\n",
       "      <th>0</th>\n",
       "      <td>20</td>\n",
       "      <td>2800</td>\n",
       "      <td>36</td>\n",
       "      <td>D</td>\n",
       "      <td>D4</td>\n",
       "      <td>0</td>\n",
       "      <td>MORTGAGE</td>\n",
       "      <td>1</td>\n",
       "      <td>Not Verified</td>\n",
       "      <td>debt_consolidation</td>\n",
       "      <td>PA</td>\n",
       "      <td>13</td>\n",
       "    </tr>\n",
       "    <tr>\n",
       "      <th>1</th>\n",
       "      <td>10</td>\n",
       "      <td>11000</td>\n",
       "      <td>36</td>\n",
       "      <td>B</td>\n",
       "      <td>B4</td>\n",
       "      <td>0</td>\n",
       "      <td>MORTGAGE</td>\n",
       "      <td>1</td>\n",
       "      <td>Not Verified</td>\n",
       "      <td>debt_consolidation</td>\n",
       "      <td>FL</td>\n",
       "      <td>14</td>\n",
       "    </tr>\n",
       "    <tr>\n",
       "      <th>2</th>\n",
       "      <td>24</td>\n",
       "      <td>19200</td>\n",
       "      <td>60</td>\n",
       "      <td>E</td>\n",
       "      <td>E3</td>\n",
       "      <td>0</td>\n",
       "      <td>MORTGAGE</td>\n",
       "      <td>1</td>\n",
       "      <td>Not Verified</td>\n",
       "      <td>debt_consolidation</td>\n",
       "      <td>IN</td>\n",
       "      <td>11</td>\n",
       "    </tr>\n",
       "    <tr>\n",
       "      <th>3</th>\n",
       "      <td>19</td>\n",
       "      <td>25000</td>\n",
       "      <td>60</td>\n",
       "      <td>D</td>\n",
       "      <td>D3</td>\n",
       "      <td>0</td>\n",
       "      <td>MORTGAGE</td>\n",
       "      <td>1</td>\n",
       "      <td>Not Verified</td>\n",
       "      <td>debt_consolidation</td>\n",
       "      <td>PA</td>\n",
       "      <td>13</td>\n",
       "    </tr>\n",
       "    <tr>\n",
       "      <th>4</th>\n",
       "      <td>7</td>\n",
       "      <td>20000</td>\n",
       "      <td>36</td>\n",
       "      <td>A</td>\n",
       "      <td>A4</td>\n",
       "      <td>0</td>\n",
       "      <td>RENT</td>\n",
       "      <td>1</td>\n",
       "      <td>Not Verified</td>\n",
       "      <td>debt_consolidation</td>\n",
       "      <td>NY</td>\n",
       "      <td>8</td>\n",
       "    </tr>\n",
       "  </tbody>\n",
       "</table>\n",
       "</div>"
      ],
      "text/plain": [
       "   int_rate  loan_amnt  term grade sub_grade  emp_length home_ownership  \\\n",
       "0        20       2800    36     D        D4           0       MORTGAGE   \n",
       "1        10      11000    36     B        B4           0       MORTGAGE   \n",
       "2        24      19200    60     E        E3           0       MORTGAGE   \n",
       "3        19      25000    60     D        D3           0       MORTGAGE   \n",
       "4         7      20000    36     A        A4           0           RENT   \n",
       "\n",
       "   annual_inc verification_status             purpose addr_state  open_acc  \n",
       "0           1        Not Verified  debt_consolidation         PA        13  \n",
       "1           1        Not Verified  debt_consolidation         FL        14  \n",
       "2           1        Not Verified  debt_consolidation         IN        11  \n",
       "3           1        Not Verified  debt_consolidation         PA        13  \n",
       "4           1        Not Verified  debt_consolidation         NY         8  "
      ]
     },
     "execution_count": 11,
     "metadata": {},
     "output_type": "execute_result"
    }
   ],
   "source": [
    "loans_a.toPandas().head(5)"
   ]
  },
  {
   "cell_type": "code",
   "execution_count": 12,
   "metadata": {},
   "outputs": [
    {
     "name": "stdout",
     "output_type": "stream",
     "text": [
      "root\n",
      " |-- int_rate: integer (nullable = true)\n",
      " |-- loan_amnt: integer (nullable = true)\n",
      " |-- term: integer (nullable = true)\n",
      " |-- grade: string (nullable = true)\n",
      " |-- sub_grade: string (nullable = true)\n",
      " |-- emp_length: integer (nullable = true)\n",
      " |-- home_ownership: string (nullable = true)\n",
      " |-- annual_inc: integer (nullable = true)\n",
      " |-- verification_status: string (nullable = true)\n",
      " |-- purpose: string (nullable = true)\n",
      " |-- addr_state: string (nullable = true)\n",
      " |-- open_acc: integer (nullable = true)\n",
      "\n"
     ]
    }
   ],
   "source": [
    "loans_a.printSchema()"
   ]
  },
  {
   "cell_type": "code",
   "execution_count": 13,
   "metadata": {},
   "outputs": [
    {
     "data": {
      "text/plain": [
       "int_rate               0\n",
       "loan_amnt              0\n",
       "term                   0\n",
       "grade                  0\n",
       "sub_grade              0\n",
       "emp_length             0\n",
       "home_ownership         0\n",
       "annual_inc             0\n",
       "verification_status    0\n",
       "purpose                0\n",
       "addr_state             0\n",
       "open_acc               0\n",
       "dtype: int64"
      ]
     },
     "execution_count": 13,
     "metadata": {},
     "output_type": "execute_result"
    }
   ],
   "source": [
    "#missing value analysis\n",
    "loans_a_pd = loans_a.toPandas()\n",
    "loans_a_pd.isnull().sum()"
   ]
  },
  {
   "cell_type": "code",
   "execution_count": 14,
   "metadata": {},
   "outputs": [
    {
     "data": {
      "text/html": [
       "<div>\n",
       "<style scoped>\n",
       "    .dataframe tbody tr th:only-of-type {\n",
       "        vertical-align: middle;\n",
       "    }\n",
       "\n",
       "    .dataframe tbody tr th {\n",
       "        vertical-align: top;\n",
       "    }\n",
       "\n",
       "    .dataframe thead th {\n",
       "        text-align: right;\n",
       "    }\n",
       "</style>\n",
       "<table border=\"1\" class=\"dataframe\">\n",
       "  <thead>\n",
       "    <tr style=\"text-align: right;\">\n",
       "      <th></th>\n",
       "      <th>summary</th>\n",
       "      <th>int_rate</th>\n",
       "      <th>loan_amnt</th>\n",
       "      <th>term</th>\n",
       "      <th>grade</th>\n",
       "      <th>sub_grade</th>\n",
       "      <th>emp_length</th>\n",
       "      <th>home_ownership</th>\n",
       "      <th>annual_inc</th>\n",
       "      <th>verification_status</th>\n",
       "      <th>purpose</th>\n",
       "      <th>addr_state</th>\n",
       "      <th>open_acc</th>\n",
       "    </tr>\n",
       "  </thead>\n",
       "  <tbody>\n",
       "    <tr>\n",
       "      <th>0</th>\n",
       "      <td>count</td>\n",
       "      <td>443080</td>\n",
       "      <td>443080</td>\n",
       "      <td>443080</td>\n",
       "      <td>443080</td>\n",
       "      <td>443080</td>\n",
       "      <td>443080</td>\n",
       "      <td>443080</td>\n",
       "      <td>443080</td>\n",
       "      <td>443080</td>\n",
       "      <td>443080</td>\n",
       "      <td>443080</td>\n",
       "      <td>443080</td>\n",
       "    </tr>\n",
       "    <tr>\n",
       "      <th>1</th>\n",
       "      <td>mean</td>\n",
       "      <td>12.718466191207005</td>\n",
       "      <td>14841.138676988354</td>\n",
       "      <td>42.66050374650176</td>\n",
       "      <td>None</td>\n",
       "      <td>None</td>\n",
       "      <td>5.483576329331046</td>\n",
       "      <td>None</td>\n",
       "      <td>80194.4396610093</td>\n",
       "      <td>None</td>\n",
       "      <td>None</td>\n",
       "      <td>None</td>\n",
       "      <td>11.62047937167103</td>\n",
       "    </tr>\n",
       "    <tr>\n",
       "      <th>2</th>\n",
       "      <td>stddev</td>\n",
       "      <td>5.203642966740987</td>\n",
       "      <td>9630.427292613873</td>\n",
       "      <td>10.746629258128982</td>\n",
       "      <td>None</td>\n",
       "      <td>None</td>\n",
       "      <td>3.8227612307124237</td>\n",
       "      <td>None</td>\n",
       "      <td>204202.90394065322</td>\n",
       "      <td>None</td>\n",
       "      <td>None</td>\n",
       "      <td>None</td>\n",
       "      <td>5.789256580291201</td>\n",
       "    </tr>\n",
       "    <tr>\n",
       "      <th>3</th>\n",
       "      <td>min</td>\n",
       "      <td>5</td>\n",
       "      <td>1000</td>\n",
       "      <td>36</td>\n",
       "      <td>A</td>\n",
       "      <td>A1</td>\n",
       "      <td>0</td>\n",
       "      <td>ANY</td>\n",
       "      <td>0</td>\n",
       "      <td>Not Verified</td>\n",
       "      <td>car</td>\n",
       "      <td>AK</td>\n",
       "      <td>0</td>\n",
       "    </tr>\n",
       "    <tr>\n",
       "      <th>4</th>\n",
       "      <td>max</td>\n",
       "      <td>30</td>\n",
       "      <td>40000</td>\n",
       "      <td>60</td>\n",
       "      <td>G</td>\n",
       "      <td>G5</td>\n",
       "      <td>10</td>\n",
       "      <td>RENT</td>\n",
       "      <td>110000000</td>\n",
       "      <td>Verified</td>\n",
       "      <td>wedding</td>\n",
       "      <td>WY</td>\n",
       "      <td>93</td>\n",
       "    </tr>\n",
       "  </tbody>\n",
       "</table>\n",
       "</div>"
      ],
      "text/plain": [
       "  summary            int_rate           loan_amnt                term   grade  \\\n",
       "0   count              443080              443080              443080  443080   \n",
       "1    mean  12.718466191207005  14841.138676988354   42.66050374650176    None   \n",
       "2  stddev   5.203642966740987   9630.427292613873  10.746629258128982    None   \n",
       "3     min                   5                1000                  36       A   \n",
       "4     max                  30               40000                  60       G   \n",
       "\n",
       "  sub_grade          emp_length home_ownership          annual_inc  \\\n",
       "0    443080              443080         443080              443080   \n",
       "1      None   5.483576329331046           None    80194.4396610093   \n",
       "2      None  3.8227612307124237           None  204202.90394065322   \n",
       "3        A1                   0            ANY                   0   \n",
       "4        G5                  10           RENT           110000000   \n",
       "\n",
       "  verification_status  purpose addr_state           open_acc  \n",
       "0              443080   443080     443080             443080  \n",
       "1                None     None       None  11.62047937167103  \n",
       "2                None     None       None  5.789256580291201  \n",
       "3        Not Verified      car         AK                  0  \n",
       "4            Verified  wedding         WY                 93  "
      ]
     },
     "execution_count": 14,
     "metadata": {},
     "output_type": "execute_result"
    }
   ],
   "source": [
    "# descriptive stats on the data\n",
    "loans_a.describe().toPandas()"
   ]
  },
  {
   "cell_type": "code",
   "execution_count": 6,
   "metadata": {},
   "outputs": [],
   "source": [
    "# Transform and add to df\n",
    "loans_a = loans_a.withColumn('loan_amnt_tsd', col('loan_amnt')/1000)\n",
    "loans_a = loans_a.withColumn('annual_inc_tsd', col('annual_inc')/1000)"
   ]
  },
  {
   "cell_type": "code",
   "execution_count": 7,
   "metadata": {},
   "outputs": [],
   "source": [
    "# ADD Polynomials degree = 2, square annual_inc and loan_amnt \n",
    "loans_a = loans_a.withColumn('loan_amnt_poly', (col('loan_amnt_tsd') * col('loan_amnt_tsd')))\n",
    "loans_a = loans_a.withColumn('annual_inc_poly',(col('annual_inc_tsd') * col('annual_inc_tsd')))"
   ]
  },
  {
   "cell_type": "code",
   "execution_count": 8,
   "metadata": {},
   "outputs": [],
   "source": [
    "# z-Standardisation\n",
    "loans_a = loans_a.withColumn('loan_amnt_zstand', (col('loan_amnt')-14841.13)/9630.42)\n",
    "loans_a = loans_a.withColumn('annual_inc_zstand', (col('annual_inc')-80194.43)/204202.90)"
   ]
  },
  {
   "cell_type": "code",
   "execution_count": 9,
   "metadata": {},
   "outputs": [
    {
     "name": "stdout",
     "output_type": "stream",
     "text": [
      "root\n",
      " |-- int_rate: integer (nullable = true)\n",
      " |-- loan_amnt: integer (nullable = true)\n",
      " |-- term: integer (nullable = true)\n",
      " |-- grade: string (nullable = true)\n",
      " |-- sub_grade: string (nullable = true)\n",
      " |-- emp_length: integer (nullable = true)\n",
      " |-- home_ownership: string (nullable = true)\n",
      " |-- annual_inc: integer (nullable = true)\n",
      " |-- verification_status: string (nullable = true)\n",
      " |-- purpose: string (nullable = true)\n",
      " |-- addr_state: string (nullable = true)\n",
      " |-- open_acc: integer (nullable = true)\n",
      " |-- loan_amnt_tsd: double (nullable = true)\n",
      " |-- annual_inc_tsd: double (nullable = true)\n",
      " |-- loan_amnt_poly: double (nullable = true)\n",
      " |-- annual_inc_poly: double (nullable = true)\n",
      " |-- loan_amnt_zstand: double (nullable = true)\n",
      " |-- annual_inc_zstand: double (nullable = true)\n",
      "\n"
     ]
    }
   ],
   "source": [
    "loans_a.printSchema()"
   ]
  },
  {
   "cell_type": "code",
   "execution_count": 10,
   "metadata": {},
   "outputs": [],
   "source": [
    "# TempView\n",
    "loans_a.createOrReplaceTempView(\"loans_a\")"
   ]
  },
  {
   "cell_type": "code",
   "execution_count": 23,
   "metadata": {},
   "outputs": [],
   "source": [
    "loans_b = spark.sql(\"SELECT int_rate, LOG(loan_amnt_tsd) AS loan_amnt_ln, LOG(annual_inc_tsd) AS annual_inc_ln, \\\n",
    "                       LOG(loan_amnt_poly) AS loan_amnt_pln, LOG(annual_inc_poly) AS annual_inc_pln, \\\n",
    "                       emp_length, grade, sub_grade, home_ownership, verification_status, purpose, addr_state, \\\n",
    "                       open_acc, term FROM loans_a\")"
   ]
  },
  {
   "cell_type": "code",
   "execution_count": 24,
   "metadata": {},
   "outputs": [
    {
     "data": {
      "text/plain": [
       "DataFrame[int_rate: int, loan_amnt_ln: double, annual_inc_ln: double, loan_amnt_pln: double, annual_inc_pln: double, emp_length: int, grade: string, sub_grade: string, home_ownership: string, verification_status: string, purpose: string, addr_state: string, open_acc: int, term: int]"
      ]
     },
     "execution_count": 24,
     "metadata": {},
     "output_type": "execute_result"
    }
   ],
   "source": [
    "loans_b.cache()"
   ]
  },
  {
   "cell_type": "code",
   "execution_count": 25,
   "metadata": {},
   "outputs": [],
   "source": [
    "loans_b.createOrReplaceTempView(\"loans_b\")"
   ]
  },
  {
   "cell_type": "code",
   "execution_count": 14,
   "metadata": {},
   "outputs": [
    {
     "data": {
      "text/html": [
       "<div>\n",
       "<style scoped>\n",
       "    .dataframe tbody tr th:only-of-type {\n",
       "        vertical-align: middle;\n",
       "    }\n",
       "\n",
       "    .dataframe tbody tr th {\n",
       "        vertical-align: top;\n",
       "    }\n",
       "\n",
       "    .dataframe thead th {\n",
       "        text-align: right;\n",
       "    }\n",
       "</style>\n",
       "<table border=\"1\" class=\"dataframe\">\n",
       "  <thead>\n",
       "    <tr style=\"text-align: right;\">\n",
       "      <th></th>\n",
       "      <th>int_rate</th>\n",
       "      <th>loan_amnt_ln</th>\n",
       "      <th>annual_inc_ln</th>\n",
       "      <th>loan_amnt_pln</th>\n",
       "      <th>annual_inc_pln</th>\n",
       "      <th>emp_length</th>\n",
       "      <th>grade</th>\n",
       "      <th>sub_grade</th>\n",
       "      <th>home_ownership</th>\n",
       "      <th>verification_status</th>\n",
       "      <th>purpose</th>\n",
       "      <th>addr_state</th>\n",
       "      <th>open_acc</th>\n",
       "      <th>term</th>\n",
       "    </tr>\n",
       "  </thead>\n",
       "  <tbody>\n",
       "    <tr>\n",
       "      <th>0</th>\n",
       "      <td>20</td>\n",
       "      <td>1.029619</td>\n",
       "      <td>-6.907755</td>\n",
       "      <td>2.059239</td>\n",
       "      <td>-13.815511</td>\n",
       "      <td>0</td>\n",
       "      <td>D</td>\n",
       "      <td>D4</td>\n",
       "      <td>MORTGAGE</td>\n",
       "      <td>Not Verified</td>\n",
       "      <td>debt_consolidation</td>\n",
       "      <td>PA</td>\n",
       "      <td>13</td>\n",
       "      <td>36</td>\n",
       "    </tr>\n",
       "    <tr>\n",
       "      <th>1</th>\n",
       "      <td>10</td>\n",
       "      <td>2.397895</td>\n",
       "      <td>-6.907755</td>\n",
       "      <td>4.795791</td>\n",
       "      <td>-13.815511</td>\n",
       "      <td>0</td>\n",
       "      <td>B</td>\n",
       "      <td>B4</td>\n",
       "      <td>MORTGAGE</td>\n",
       "      <td>Not Verified</td>\n",
       "      <td>debt_consolidation</td>\n",
       "      <td>FL</td>\n",
       "      <td>14</td>\n",
       "      <td>36</td>\n",
       "    </tr>\n",
       "    <tr>\n",
       "      <th>2</th>\n",
       "      <td>24</td>\n",
       "      <td>2.954910</td>\n",
       "      <td>-6.907755</td>\n",
       "      <td>5.909821</td>\n",
       "      <td>-13.815511</td>\n",
       "      <td>0</td>\n",
       "      <td>E</td>\n",
       "      <td>E3</td>\n",
       "      <td>MORTGAGE</td>\n",
       "      <td>Not Verified</td>\n",
       "      <td>debt_consolidation</td>\n",
       "      <td>IN</td>\n",
       "      <td>11</td>\n",
       "      <td>60</td>\n",
       "    </tr>\n",
       "  </tbody>\n",
       "</table>\n",
       "</div>"
      ],
      "text/plain": [
       "   int_rate  loan_amnt_ln  annual_inc_ln  loan_amnt_pln  annual_inc_pln  \\\n",
       "0        20      1.029619      -6.907755       2.059239      -13.815511   \n",
       "1        10      2.397895      -6.907755       4.795791      -13.815511   \n",
       "2        24      2.954910      -6.907755       5.909821      -13.815511   \n",
       "\n",
       "   emp_length grade sub_grade home_ownership verification_status  \\\n",
       "0           0     D        D4       MORTGAGE        Not Verified   \n",
       "1           0     B        B4       MORTGAGE        Not Verified   \n",
       "2           0     E        E3       MORTGAGE        Not Verified   \n",
       "\n",
       "              purpose addr_state  open_acc  term  \n",
       "0  debt_consolidation         PA        13    36  \n",
       "1  debt_consolidation         FL        14    36  \n",
       "2  debt_consolidation         IN        11    60  "
      ]
     },
     "execution_count": 14,
     "metadata": {},
     "output_type": "execute_result"
    }
   ],
   "source": [
    "loans_b.toPandas().head(3)"
   ]
  },
  {
   "cell_type": "code",
   "execution_count": 26,
   "metadata": {},
   "outputs": [],
   "source": [
    "stringIndexer = StringIndexer(inputCol='home_ownership', outputCol='home_ownership_num')\n",
    "model = stringIndexer.fit(loans_b)\n",
    "loans_b = model.transform(loans_b)\n",
    "\n",
    "stringIndexer = StringIndexer(inputCol='verification_status', outputCol='verification_status_num')\n",
    "model = stringIndexer.fit(loans_b)\n",
    "loans_b = model.transform(loans_b)\n",
    "\n",
    "stringIndexer = StringIndexer(inputCol='addr_state', outputCol='addr_state_num')\n",
    "model = stringIndexer.fit(loans_b)\n",
    "loans_b = model.transform(loans_b)\n",
    "\n",
    "stringIndexer = StringIndexer(inputCol='purpose', outputCol='purpose_num')\n",
    "model = stringIndexer.fit(loans_b)\n",
    "loans_b = model.transform(loans_b)\n",
    "\n",
    "stringIndexer = StringIndexer(inputCol='grade', outputCol='grade_num')\n",
    "model = stringIndexer.fit(loans_b)\n",
    "loans_b = model.transform(loans_b)\n",
    "\n",
    "## SUB_GRADE REMOVED FROM MODELING DUE TO SYSTEM CRASH\n",
    "#stringIndexer = StringIndexer(inputCol='sub_grade', outputCol='sub_grade_num')\n",
    "#model = stringIndexer.fit(loans_b)\n",
    "#loans_b = model.transform(loans_b)\n",
    "\n",
    "#loans_b.toPandas().head(5)"
   ]
  },
  {
   "cell_type": "code",
   "execution_count": 27,
   "metadata": {},
   "outputs": [],
   "source": [
    "# setup OneHotEncoder\n",
    "encoder = OneHotEncoder(inputCol='home_ownership_num', outputCol='home_ownership_cat') # dropLast = False\n",
    "# apply to data\n",
    "loans_b = encoder.transform(loans_b)\n",
    "\n",
    "\n",
    "encoder = OneHotEncoder(inputCol='verification_status_num', outputCol='verification_status_cat') # dropLast = False\n",
    "loans_b = encoder.transform(loans_b)\n",
    "\n",
    "encoder = OneHotEncoder(inputCol='addr_state_num', outputCol='addr_state_cat') # dropLast = False\n",
    "loans_b = encoder.transform(loans_b)\n",
    "\n",
    "encoder = OneHotEncoder(inputCol='purpose_num', outputCol='purpose_cat') # dropLast = False\n",
    "loans_b = encoder.transform(loans_b)\n",
    "\n",
    "encoder = OneHotEncoder(inputCol='grade_num', outputCol='grade_cat') # dropLast = False\n",
    "loans_b = encoder.transform(loans_b)\n",
    "\n",
    "## SUB_GRADE REMOVED FROM MODELING DUE TO SYSTEM CRASH\n",
    "#encoder = OneHotEncoder(inputCol='sub_grade_num', outputCol='sub_grade_cat') # dropLast = False\n",
    "#loans_b = encoder.transform(loans_b)\n",
    "\n",
    "#loans_b.toPandas().head(5)"
   ]
  },
  {
   "cell_type": "code",
   "execution_count": 28,
   "metadata": {
    "scrolled": true
   },
   "outputs": [
    {
     "name": "stdout",
     "output_type": "stream",
     "text": [
      "root\n",
      " |-- int_rate: integer (nullable = true)\n",
      " |-- loan_amnt_ln: double (nullable = true)\n",
      " |-- annual_inc_ln: double (nullable = true)\n",
      " |-- loan_amnt_pln: double (nullable = true)\n",
      " |-- annual_inc_pln: double (nullable = true)\n",
      " |-- emp_length: integer (nullable = true)\n",
      " |-- grade: string (nullable = true)\n",
      " |-- sub_grade: string (nullable = true)\n",
      " |-- home_ownership: string (nullable = true)\n",
      " |-- verification_status: string (nullable = true)\n",
      " |-- purpose: string (nullable = true)\n",
      " |-- addr_state: string (nullable = true)\n",
      " |-- open_acc: integer (nullable = true)\n",
      " |-- term: integer (nullable = true)\n",
      " |-- home_ownership_num: double (nullable = false)\n",
      " |-- verification_status_num: double (nullable = false)\n",
      " |-- addr_state_num: double (nullable = false)\n",
      " |-- purpose_num: double (nullable = false)\n",
      " |-- grade_num: double (nullable = false)\n",
      " |-- home_ownership_cat: vector (nullable = true)\n",
      " |-- verification_status_cat: vector (nullable = true)\n",
      " |-- addr_state_cat: vector (nullable = true)\n",
      " |-- purpose_cat: vector (nullable = true)\n",
      " |-- grade_cat: vector (nullable = true)\n",
      " |-- features: vector (nullable = true)\n",
      "\n"
     ]
    }
   ],
   "source": [
    "# Initalize\n",
    "vectorAssembler = VectorAssembler(inputCols = ['loan_amnt_ln','term', 'grade_cat', 'addr_state_cat', 'emp_length', \\\n",
    "                                               'home_ownership_cat', 'annual_inc_ln','verification_status_cat', \\\n",
    "                                               'purpose_cat', 'open_acc'], \n",
    "                                  outputCol = 'features')\n",
    "loans_b_ml = vectorAssembler.setHandleInvalid(\"skip\").transform(loans_b)\n",
    "loans_b_ml.printSchema()"
   ]
  },
  {
   "cell_type": "code",
   "execution_count": 29,
   "metadata": {},
   "outputs": [],
   "source": [
    "loans_b_mll = loans_b_ml.select('features',col('int_rate').alias('label'))"
   ]
  },
  {
   "cell_type": "code",
   "execution_count": 30,
   "metadata": {},
   "outputs": [
    {
     "data": {
      "text/html": [
       "<div>\n",
       "<style scoped>\n",
       "    .dataframe tbody tr th:only-of-type {\n",
       "        vertical-align: middle;\n",
       "    }\n",
       "\n",
       "    .dataframe tbody tr th {\n",
       "        vertical-align: top;\n",
       "    }\n",
       "\n",
       "    .dataframe thead th {\n",
       "        text-align: right;\n",
       "    }\n",
       "</style>\n",
       "<table border=\"1\" class=\"dataframe\">\n",
       "  <thead>\n",
       "    <tr style=\"text-align: right;\">\n",
       "      <th></th>\n",
       "      <th>features</th>\n",
       "      <th>label</th>\n",
       "    </tr>\n",
       "  </thead>\n",
       "  <tbody>\n",
       "    <tr>\n",
       "      <th>0</th>\n",
       "      <td>(1.0296194171811581, 36.0, 0.0, 0.0, 0.0, 1.0,...</td>\n",
       "      <td>20</td>\n",
       "    </tr>\n",
       "    <tr>\n",
       "      <th>1</th>\n",
       "      <td>(2.3978952727983707, 36.0, 0.0, 1.0, 0.0, 0.0,...</td>\n",
       "      <td>10</td>\n",
       "    </tr>\n",
       "    <tr>\n",
       "      <th>2</th>\n",
       "      <td>(2.954910279033736, 60.0, 0.0, 0.0, 0.0, 0.0, ...</td>\n",
       "      <td>24</td>\n",
       "    </tr>\n",
       "    <tr>\n",
       "      <th>3</th>\n",
       "      <td>(3.2188758248682006, 60.0, 0.0, 0.0, 0.0, 1.0,...</td>\n",
       "      <td>19</td>\n",
       "    </tr>\n",
       "    <tr>\n",
       "      <th>4</th>\n",
       "      <td>(2.995732273553991, 36.0, 0.0, 0.0, 1.0, 0.0, ...</td>\n",
       "      <td>7</td>\n",
       "    </tr>\n",
       "  </tbody>\n",
       "</table>\n",
       "</div>"
      ],
      "text/plain": [
       "                                            features  label\n",
       "0  (1.0296194171811581, 36.0, 0.0, 0.0, 0.0, 1.0,...     20\n",
       "1  (2.3978952727983707, 36.0, 0.0, 1.0, 0.0, 0.0,...     10\n",
       "2  (2.954910279033736, 60.0, 0.0, 0.0, 0.0, 0.0, ...     24\n",
       "3  (3.2188758248682006, 60.0, 0.0, 0.0, 0.0, 1.0,...     19\n",
       "4  (2.995732273553991, 36.0, 0.0, 0.0, 1.0, 0.0, ...      7"
      ]
     },
     "execution_count": 30,
     "metadata": {},
     "output_type": "execute_result"
    }
   ],
   "source": [
    "loans_b_mll.toPandas().head(5)"
   ]
  },
  {
   "cell_type": "code",
   "execution_count": 31,
   "metadata": {},
   "outputs": [],
   "source": [
    "training_data, test_data = loans_b_mll.randomSplit(weights=[.7,.3], seed=25)"
   ]
  },
  {
   "cell_type": "code",
   "execution_count": 18,
   "metadata": {},
   "outputs": [
    {
     "data": {
      "text/plain": [
       "310071"
      ]
     },
     "execution_count": 18,
     "metadata": {},
     "output_type": "execute_result"
    }
   ],
   "source": [
    "training_data.count()"
   ]
  },
  {
   "cell_type": "code",
   "execution_count": 19,
   "metadata": {},
   "outputs": [
    {
     "data": {
      "text/plain": [
       "133008"
      ]
     },
     "execution_count": 19,
     "metadata": {},
     "output_type": "execute_result"
    }
   ],
   "source": [
    "test_data.count()"
   ]
  },
  {
   "cell_type": "code",
   "execution_count": 33,
   "metadata": {},
   "outputs": [],
   "source": [
    "#Step 1: Initialize the linear regression\n",
    "lr_cat = LinearRegression(maxIter=100)\n",
    "# Parametrization for a classical linear regression"
   ]
  },
  {
   "cell_type": "code",
   "execution_count": 34,
   "metadata": {},
   "outputs": [],
   "source": [
    "#ParamGrid search - Total 2 * 2 * 3 = 12 combinations of parameters will be evaluated and the bst chosen\n",
    "ParamGrid = ParamGridBuilder() \\\n",
    "            .addGrid(lr_cat.regParam, [0.1, 0.01]) \\\n",
    "            .addGrid(lr_cat.fitIntercept, [True, False]) \\\n",
    "            .addGrid(lr_cat.elasticNetParam, [0.0, 0.5, 1.0]) \\\n",
    "            .build()"
   ]
  },
  {
   "cell_type": "code",
   "execution_count": 35,
   "metadata": {},
   "outputs": [],
   "source": [
    "#TrainValidation Split\n",
    "tvs = TrainValidationSplit(estimator=lr_cat,\n",
    "                           estimatorParamMaps=ParamGrid,\n",
    "                           evaluator=RegressionEvaluator(),\n",
    "                           trainRatio=0.8)"
   ]
  },
  {
   "cell_type": "code",
   "execution_count": 36,
   "metadata": {},
   "outputs": [],
   "source": [
    "linearModel_grid = tvs.fit(training_data)"
   ]
  },
  {
   "cell_type": "code",
   "execution_count": 44,
   "metadata": {},
   "outputs": [
    {
     "data": {
      "text/plain": [
       "DenseVector([0.0024, 0.0125, -13.6122, -17.358, -20.7202, -9.0358, -3.4314, 1.5157, 0.0, 0.0, 0.0, 0.0, 0.0, 0.0, 0.0, 0.0, 0.0, 0.0, 0.0, 0.0, 0.0, 0.0, 0.0, 0.0, 0.0, 0.0, 0.0, 0.0, 0.0, 0.0, 0.0, 0.0, 0.0, 0.0, 0.0, 0.0, 0.0, 0.0, 0.0, 0.0, 0.0, 0.0, 0.0, 0.0, 0.0, 0.0, 0.0, 0.0, 0.0, 0.0, 0.0, 0.0, 0.0, 0.0, 0.0, 0.0, 0.0, 0.0, -0.0292, 0.029, 0.0, 0.0, -0.1167, -0.0325, -0.2333, 0.0135, -0.0534, -0.0078, 0.0202, 0.0, 0.0, 0.0, 0.0, 0.0, 0.0, 0.0, 0.0, 0.0, 0.0])"
      ]
     },
     "execution_count": 44,
     "metadata": {},
     "output_type": "execute_result"
    }
   ],
   "source": [
    "linearModel_grid.bestModel.coefficients"
   ]
  },
  {
   "cell_type": "code",
   "execution_count": 45,
   "metadata": {},
   "outputs": [
    {
     "data": {
      "text/plain": [
       "<matplotlib.axes._subplots.AxesSubplot at 0x7fbd0d715550>"
      ]
     },
     "execution_count": 45,
     "metadata": {},
     "output_type": "execute_result"
    },
    {
     "data": {
      "image/png": "[encoded data removed]",
      "text/plain": [
       "<Figure size 432x288 with 1 Axes>"
      ]
     },
     "metadata": {
      "needs_background": "light"
     },
     "output_type": "display_data"
    }
   ],
   "source": [
    "# residuals\n",
    "lr_residuals = linearModel_grid.bestModel.summary.residuals.toPandas()\n",
    "sns.distplot(a=lr_residuals['residuals'], rug = True)"
   ]
  },
  {
   "cell_type": "code",
   "execution_count": 40,
   "metadata": {},
   "outputs": [
    {
     "name": "stdout",
     "output_type": "stream",
     "text": [
      "root\n",
      " |-- features: vector (nullable = true)\n",
      " |-- label: integer (nullable = true)\n",
      " |-- prediction: double (nullable = false)\n",
      "\n"
     ]
    }
   ],
   "source": [
    "predictions_lr = linearModel_grid.transform(test_data)\n",
    "predictions_lr.printSchema()"
   ]
  },
  {
   "cell_type": "code",
   "execution_count": 41,
   "metadata": {},
   "outputs": [
    {
     "data": {
      "text/html": [
       "<div>\n",
       "<style scoped>\n",
       "    .dataframe tbody tr th:only-of-type {\n",
       "        vertical-align: middle;\n",
       "    }\n",
       "\n",
       "    .dataframe tbody tr th {\n",
       "        vertical-align: top;\n",
       "    }\n",
       "\n",
       "    .dataframe thead th {\n",
       "        text-align: right;\n",
       "    }\n",
       "</style>\n",
       "<table border=\"1\" class=\"dataframe\">\n",
       "  <thead>\n",
       "    <tr style=\"text-align: right;\">\n",
       "      <th></th>\n",
       "      <th>features</th>\n",
       "      <th>label</th>\n",
       "      <th>prediction</th>\n",
       "    </tr>\n",
       "  </thead>\n",
       "  <tbody>\n",
       "    <tr>\n",
       "      <th>0</th>\n",
       "      <td>(1.2809338454620642, 36.0, 1.0, 0.0, 0.0, 0.0,...</td>\n",
       "      <td>15</td>\n",
       "      <td>13.671543</td>\n",
       "    </tr>\n",
       "    <tr>\n",
       "      <th>1</th>\n",
       "      <td>(1.4929040961781488, 36.0, 1.0, 0.0, 0.0, 0.0,...</td>\n",
       "      <td>16</td>\n",
       "      <td>13.633717</td>\n",
       "    </tr>\n",
       "    <tr>\n",
       "      <th>2</th>\n",
       "      <td>(1.6094379124341003, 36.0, 1.0, 0.0, 0.0, 0.0,...</td>\n",
       "      <td>13</td>\n",
       "      <td>13.723606</td>\n",
       "    </tr>\n",
       "    <tr>\n",
       "      <th>3</th>\n",
       "      <td>(1.6094379124341003, 36.0, 1.0, 0.0, 0.0, 0.0,...</td>\n",
       "      <td>13</td>\n",
       "      <td>13.710309</td>\n",
       "    </tr>\n",
       "    <tr>\n",
       "      <th>4</th>\n",
       "      <td>(1.6094379124341003, 36.0, 1.0, 0.0, 0.0, 0.0,...</td>\n",
       "      <td>16</td>\n",
       "      <td>13.852618</td>\n",
       "    </tr>\n",
       "    <tr>\n",
       "      <th>5</th>\n",
       "      <td>(1.6094379124341003, 36.0, 1.0, 0.0, 0.0, 0.0,...</td>\n",
       "      <td>16</td>\n",
       "      <td>13.698373</td>\n",
       "    </tr>\n",
       "    <tr>\n",
       "      <th>6</th>\n",
       "      <td>(1.9740810260220096, 36.0, 1.0, 0.0, 0.0, 0.0,...</td>\n",
       "      <td>12</td>\n",
       "      <td>13.630297</td>\n",
       "    </tr>\n",
       "    <tr>\n",
       "      <th>7</th>\n",
       "      <td>(2.0794415416798357, 36.0, 1.0, 0.0, 0.0, 0.0,...</td>\n",
       "      <td>14</td>\n",
       "      <td>13.667153</td>\n",
       "    </tr>\n",
       "    <tr>\n",
       "      <th>8</th>\n",
       "      <td>(2.302585092994046, 36.0, 1.0, 0.0, 0.0, 0.0, ...</td>\n",
       "      <td>16</td>\n",
       "      <td>13.747533</td>\n",
       "    </tr>\n",
       "    <tr>\n",
       "      <th>9</th>\n",
       "      <td>(2.302585092994046, 36.0, 1.0, 0.0, 0.0, 0.0, ...</td>\n",
       "      <td>13</td>\n",
       "      <td>13.745906</td>\n",
       "    </tr>\n",
       "    <tr>\n",
       "      <th>10</th>\n",
       "      <td>(2.302585092994046, 36.0, 1.0, 0.0, 0.0, 0.0, ...</td>\n",
       "      <td>14</td>\n",
       "      <td>13.680669</td>\n",
       "    </tr>\n",
       "    <tr>\n",
       "      <th>11</th>\n",
       "      <td>(2.302585092994046, 60.0, 1.0, 0.0, 0.0, 0.0, ...</td>\n",
       "      <td>14</td>\n",
       "      <td>14.119029</td>\n",
       "    </tr>\n",
       "    <tr>\n",
       "      <th>12</th>\n",
       "      <td>(2.302585092994046, 60.0, 1.0, 0.0, 0.0, 0.0, ...</td>\n",
       "      <td>15</td>\n",
       "      <td>14.021441</td>\n",
       "    </tr>\n",
       "    <tr>\n",
       "      <th>13</th>\n",
       "      <td>(2.3933394562625097, 36.0, 1.0, 0.0, 0.0, 0.0,...</td>\n",
       "      <td>15</td>\n",
       "      <td>13.685794</td>\n",
       "    </tr>\n",
       "    <tr>\n",
       "      <th>14</th>\n",
       "      <td>(2.3978952727983707, 60.0, 1.0, 0.0, 0.0, 0.0,...</td>\n",
       "      <td>14</td>\n",
       "      <td>13.981024</td>\n",
       "    </tr>\n",
       "    <tr>\n",
       "      <th>15</th>\n",
       "      <td>(2.4159137783010487, 60.0, 1.0, 0.0, 0.0, 0.0,...</td>\n",
       "      <td>16</td>\n",
       "      <td>14.098775</td>\n",
       "    </tr>\n",
       "    <tr>\n",
       "      <th>16</th>\n",
       "      <td>(2.4159137783010487, 60.0, 1.0, 0.0, 0.0, 0.0,...</td>\n",
       "      <td>16</td>\n",
       "      <td>13.914785</td>\n",
       "    </tr>\n",
       "    <tr>\n",
       "      <th>17</th>\n",
       "      <td>(2.4849066497880004, 36.0, 1.0, 0.0, 0.0, 0.0,...</td>\n",
       "      <td>12</td>\n",
       "      <td>13.674437</td>\n",
       "    </tr>\n",
       "    <tr>\n",
       "      <th>18</th>\n",
       "      <td>(2.4849066497880004, 36.0, 1.0, 0.0, 0.0, 0.0,...</td>\n",
       "      <td>16</td>\n",
       "      <td>13.682488</td>\n",
       "    </tr>\n",
       "    <tr>\n",
       "      <th>19</th>\n",
       "      <td>(2.505525936990736, 60.0, 1.0, 0.0, 0.0, 0.0, ...</td>\n",
       "      <td>16</td>\n",
       "      <td>13.989825</td>\n",
       "    </tr>\n",
       "    <tr>\n",
       "      <th>20</th>\n",
       "      <td>(2.667228206581955, 36.0, 1.0, 0.0, 0.0, 0.0, ...</td>\n",
       "      <td>12</td>\n",
       "      <td>13.685739</td>\n",
       "    </tr>\n",
       "    <tr>\n",
       "      <th>21</th>\n",
       "      <td>(2.667228206581955, 36.0, 1.0, 0.0, 0.0, 0.0, ...</td>\n",
       "      <td>16</td>\n",
       "      <td>13.696152</td>\n",
       "    </tr>\n",
       "    <tr>\n",
       "      <th>22</th>\n",
       "      <td>(2.6844403354630764, 60.0, 1.0, 0.0, 0.0, 0.0,...</td>\n",
       "      <td>14</td>\n",
       "      <td>14.022359</td>\n",
       "    </tr>\n",
       "    <tr>\n",
       "      <th>23</th>\n",
       "      <td>(2.70805020110221, 36.0, 1.0, 0.0, 0.0, 0.0, 0...</td>\n",
       "      <td>13</td>\n",
       "      <td>13.632061</td>\n",
       "    </tr>\n",
       "    <tr>\n",
       "      <th>24</th>\n",
       "      <td>(2.70805020110221, 36.0, 1.0, 0.0, 0.0, 0.0, 0...</td>\n",
       "      <td>16</td>\n",
       "      <td>13.769606</td>\n",
       "    </tr>\n",
       "    <tr>\n",
       "      <th>25</th>\n",
       "      <td>(2.70805020110221, 36.0, 1.0, 0.0, 0.0, 0.0, 0...</td>\n",
       "      <td>15</td>\n",
       "      <td>13.662678</td>\n",
       "    </tr>\n",
       "    <tr>\n",
       "      <th>26</th>\n",
       "      <td>(2.70805020110221, 36.0, 1.0, 0.0, 0.0, 0.0, 0...</td>\n",
       "      <td>14</td>\n",
       "      <td>13.615362</td>\n",
       "    </tr>\n",
       "    <tr>\n",
       "      <th>27</th>\n",
       "      <td>(2.70805020110221, 60.0, 1.0, 0.0, 0.0, 0.0, 0...</td>\n",
       "      <td>15</td>\n",
       "      <td>14.072687</td>\n",
       "    </tr>\n",
       "    <tr>\n",
       "      <th>28</th>\n",
       "      <td>(2.70805020110221, 60.0, 1.0, 0.0, 0.0, 0.0, 0...</td>\n",
       "      <td>14</td>\n",
       "      <td>13.988844</td>\n",
       "    </tr>\n",
       "    <tr>\n",
       "      <th>29</th>\n",
       "      <td>(2.70805020110221, 60.0, 1.0, 0.0, 0.0, 0.0, 0...</td>\n",
       "      <td>14</td>\n",
       "      <td>14.013075</td>\n",
       "    </tr>\n",
       "    <tr>\n",
       "      <th>30</th>\n",
       "      <td>(2.70805020110221, 60.0, 1.0, 0.0, 0.0, 0.0, 0...</td>\n",
       "      <td>14</td>\n",
       "      <td>14.004427</td>\n",
       "    </tr>\n",
       "    <tr>\n",
       "      <th>31</th>\n",
       "      <td>(2.70805020110221, 60.0, 1.0, 0.0, 0.0, 0.0, 0...</td>\n",
       "      <td>12</td>\n",
       "      <td>13.996375</td>\n",
       "    </tr>\n",
       "    <tr>\n",
       "      <th>32</th>\n",
       "      <td>(2.772588722239781, 60.0, 1.0, 0.0, 0.0, 0.0, ...</td>\n",
       "      <td>13</td>\n",
       "      <td>13.996530</td>\n",
       "    </tr>\n",
       "    <tr>\n",
       "      <th>33</th>\n",
       "      <td>(2.8213788864092133, 60.0, 1.0, 0.0, 0.0, 0.0,...</td>\n",
       "      <td>13</td>\n",
       "      <td>13.989116</td>\n",
       "    </tr>\n",
       "    <tr>\n",
       "      <th>34</th>\n",
       "      <td>(2.833213344056216, 60.0, 1.0, 0.0, 0.0, 0.0, ...</td>\n",
       "      <td>15</td>\n",
       "      <td>14.043993</td>\n",
       "    </tr>\n",
       "    <tr>\n",
       "      <th>35</th>\n",
       "      <td>(2.8903717578961645, 60.0, 1.0, 0.0, 0.0, 0.0,...</td>\n",
       "      <td>16</td>\n",
       "      <td>13.972972</td>\n",
       "    </tr>\n",
       "    <tr>\n",
       "      <th>36</th>\n",
       "      <td>(2.995732273553991, 36.0, 1.0, 0.0, 0.0, 0.0, ...</td>\n",
       "      <td>16</td>\n",
       "      <td>13.682335</td>\n",
       "    </tr>\n",
       "    <tr>\n",
       "      <th>37</th>\n",
       "      <td>(2.995732273553991, 36.0, 1.0, 0.0, 0.0, 0.0, ...</td>\n",
       "      <td>12</td>\n",
       "      <td>13.783178</td>\n",
       "    </tr>\n",
       "    <tr>\n",
       "      <th>38</th>\n",
       "      <td>(2.995732273553991, 36.0, 1.0, 0.0, 0.0, 0.0, ...</td>\n",
       "      <td>16</td>\n",
       "      <td>13.739681</td>\n",
       "    </tr>\n",
       "    <tr>\n",
       "      <th>39</th>\n",
       "      <td>(2.995732273553991, 36.0, 1.0, 0.0, 0.0, 0.0, ...</td>\n",
       "      <td>16</td>\n",
       "      <td>13.663370</td>\n",
       "    </tr>\n",
       "    <tr>\n",
       "      <th>40</th>\n",
       "      <td>(2.995732273553991, 36.0, 1.0, 0.0, 0.0, 0.0, ...</td>\n",
       "      <td>13</td>\n",
       "      <td>13.642093</td>\n",
       "    </tr>\n",
       "    <tr>\n",
       "      <th>41</th>\n",
       "      <td>(2.995732273553991, 36.0, 1.0, 0.0, 0.0, 0.0, ...</td>\n",
       "      <td>12</td>\n",
       "      <td>13.613742</td>\n",
       "    </tr>\n",
       "    <tr>\n",
       "      <th>42</th>\n",
       "      <td>(3.091042453358316, 36.0, 1.0, 0.0, 0.0, 0.0, ...</td>\n",
       "      <td>13</td>\n",
       "      <td>13.713870</td>\n",
       "    </tr>\n",
       "    <tr>\n",
       "      <th>43</th>\n",
       "      <td>(3.091042453358316, 60.0, 1.0, 0.0, 0.0, 0.0, ...</td>\n",
       "      <td>14</td>\n",
       "      <td>13.966827</td>\n",
       "    </tr>\n",
       "    <tr>\n",
       "      <th>44</th>\n",
       "      <td>(3.1354942159291497, 60.0, 1.0, 0.0, 0.0, 0.0,...</td>\n",
       "      <td>14</td>\n",
       "      <td>13.997403</td>\n",
       "    </tr>\n",
       "    <tr>\n",
       "      <th>45</th>\n",
       "      <td>(3.1780538303479458, 36.0, 1.0, 0.0, 0.0, 0.0,...</td>\n",
       "      <td>15</td>\n",
       "      <td>13.642531</td>\n",
       "    </tr>\n",
       "    <tr>\n",
       "      <th>46</th>\n",
       "      <td>(3.1780538303479458, 36.0, 1.0, 0.0, 0.0, 0.0,...</td>\n",
       "      <td>13</td>\n",
       "      <td>13.653751</td>\n",
       "    </tr>\n",
       "    <tr>\n",
       "      <th>47</th>\n",
       "      <td>(3.1780538303479458, 60.0, 1.0, 0.0, 0.0, 0.0,...</td>\n",
       "      <td>14</td>\n",
       "      <td>13.981534</td>\n",
       "    </tr>\n",
       "    <tr>\n",
       "      <th>48</th>\n",
       "      <td>(3.1780538303479458, 60.0, 1.0, 0.0, 0.0, 0.0,...</td>\n",
       "      <td>16</td>\n",
       "      <td>13.958240</td>\n",
       "    </tr>\n",
       "    <tr>\n",
       "      <th>49</th>\n",
       "      <td>(3.1780538303479458, 60.0, 1.0, 0.0, 0.0, 0.0,...</td>\n",
       "      <td>14</td>\n",
       "      <td>13.997505</td>\n",
       "    </tr>\n",
       "  </tbody>\n",
       "</table>\n",
       "</div>"
      ],
      "text/plain": [
       "                                             features  label  prediction\n",
       "0   (1.2809338454620642, 36.0, 1.0, 0.0, 0.0, 0.0,...     15   13.671543\n",
       "1   (1.4929040961781488, 36.0, 1.0, 0.0, 0.0, 0.0,...     16   13.633717\n",
       "2   (1.6094379124341003, 36.0, 1.0, 0.0, 0.0, 0.0,...     13   13.723606\n",
       "3   (1.6094379124341003, 36.0, 1.0, 0.0, 0.0, 0.0,...     13   13.710309\n",
       "4   (1.6094379124341003, 36.0, 1.0, 0.0, 0.0, 0.0,...     16   13.852618\n",
       "5   (1.6094379124341003, 36.0, 1.0, 0.0, 0.0, 0.0,...     16   13.698373\n",
       "6   (1.9740810260220096, 36.0, 1.0, 0.0, 0.0, 0.0,...     12   13.630297\n",
       "7   (2.0794415416798357, 36.0, 1.0, 0.0, 0.0, 0.0,...     14   13.667153\n",
       "8   (2.302585092994046, 36.0, 1.0, 0.0, 0.0, 0.0, ...     16   13.747533\n",
       "9   (2.302585092994046, 36.0, 1.0, 0.0, 0.0, 0.0, ...     13   13.745906\n",
       "10  (2.302585092994046, 36.0, 1.0, 0.0, 0.0, 0.0, ...     14   13.680669\n",
       "11  (2.302585092994046, 60.0, 1.0, 0.0, 0.0, 0.0, ...     14   14.119029\n",
       "12  (2.302585092994046, 60.0, 1.0, 0.0, 0.0, 0.0, ...     15   14.021441\n",
       "13  (2.3933394562625097, 36.0, 1.0, 0.0, 0.0, 0.0,...     15   13.685794\n",
       "14  (2.3978952727983707, 60.0, 1.0, 0.0, 0.0, 0.0,...     14   13.981024\n",
       "15  (2.4159137783010487, 60.0, 1.0, 0.0, 0.0, 0.0,...     16   14.098775\n",
       "16  (2.4159137783010487, 60.0, 1.0, 0.0, 0.0, 0.0,...     16   13.914785\n",
       "17  (2.4849066497880004, 36.0, 1.0, 0.0, 0.0, 0.0,...     12   13.674437\n",
       "18  (2.4849066497880004, 36.0, 1.0, 0.0, 0.0, 0.0,...     16   13.682488\n",
       "19  (2.505525936990736, 60.0, 1.0, 0.0, 0.0, 0.0, ...     16   13.989825\n",
       "20  (2.667228206581955, 36.0, 1.0, 0.0, 0.0, 0.0, ...     12   13.685739\n",
       "21  (2.667228206581955, 36.0, 1.0, 0.0, 0.0, 0.0, ...     16   13.696152\n",
       "22  (2.6844403354630764, 60.0, 1.0, 0.0, 0.0, 0.0,...     14   14.022359\n",
       "23  (2.70805020110221, 36.0, 1.0, 0.0, 0.0, 0.0, 0...     13   13.632061\n",
       "24  (2.70805020110221, 36.0, 1.0, 0.0, 0.0, 0.0, 0...     16   13.769606\n",
       "25  (2.70805020110221, 36.0, 1.0, 0.0, 0.0, 0.0, 0...     15   13.662678\n",
       "26  (2.70805020110221, 36.0, 1.0, 0.0, 0.0, 0.0, 0...     14   13.615362\n",
       "27  (2.70805020110221, 60.0, 1.0, 0.0, 0.0, 0.0, 0...     15   14.072687\n",
       "28  (2.70805020110221, 60.0, 1.0, 0.0, 0.0, 0.0, 0...     14   13.988844\n",
       "29  (2.70805020110221, 60.0, 1.0, 0.0, 0.0, 0.0, 0...     14   14.013075\n",
       "30  (2.70805020110221, 60.0, 1.0, 0.0, 0.0, 0.0, 0...     14   14.004427\n",
       "31  (2.70805020110221, 60.0, 1.0, 0.0, 0.0, 0.0, 0...     12   13.996375\n",
       "32  (2.772588722239781, 60.0, 1.0, 0.0, 0.0, 0.0, ...     13   13.996530\n",
       "33  (2.8213788864092133, 60.0, 1.0, 0.0, 0.0, 0.0,...     13   13.989116\n",
       "34  (2.833213344056216, 60.0, 1.0, 0.0, 0.0, 0.0, ...     15   14.043993\n",
       "35  (2.8903717578961645, 60.0, 1.0, 0.0, 0.0, 0.0,...     16   13.972972\n",
       "36  (2.995732273553991, 36.0, 1.0, 0.0, 0.0, 0.0, ...     16   13.682335\n",
       "37  (2.995732273553991, 36.0, 1.0, 0.0, 0.0, 0.0, ...     12   13.783178\n",
       "38  (2.995732273553991, 36.0, 1.0, 0.0, 0.0, 0.0, ...     16   13.739681\n",
       "39  (2.995732273553991, 36.0, 1.0, 0.0, 0.0, 0.0, ...     16   13.663370\n",
       "40  (2.995732273553991, 36.0, 1.0, 0.0, 0.0, 0.0, ...     13   13.642093\n",
       "41  (2.995732273553991, 36.0, 1.0, 0.0, 0.0, 0.0, ...     12   13.613742\n",
       "42  (3.091042453358316, 36.0, 1.0, 0.0, 0.0, 0.0, ...     13   13.713870\n",
       "43  (3.091042453358316, 60.0, 1.0, 0.0, 0.0, 0.0, ...     14   13.966827\n",
       "44  (3.1354942159291497, 60.0, 1.0, 0.0, 0.0, 0.0,...     14   13.997403\n",
       "45  (3.1780538303479458, 36.0, 1.0, 0.0, 0.0, 0.0,...     15   13.642531\n",
       "46  (3.1780538303479458, 36.0, 1.0, 0.0, 0.0, 0.0,...     13   13.653751\n",
       "47  (3.1780538303479458, 60.0, 1.0, 0.0, 0.0, 0.0,...     14   13.981534\n",
       "48  (3.1780538303479458, 60.0, 1.0, 0.0, 0.0, 0.0,...     16   13.958240\n",
       "49  (3.1780538303479458, 60.0, 1.0, 0.0, 0.0, 0.0,...     14   13.997505"
      ]
     },
     "execution_count": 41,
     "metadata": {},
     "output_type": "execute_result"
    }
   ],
   "source": [
    "predictions_lr.toPandas().head(50)"
   ]
  },
  {
   "cell_type": "code",
   "execution_count": 42,
   "metadata": {},
   "outputs": [],
   "source": [
    "evaluator = RegressionEvaluator(metricName=\"r2\",labelCol='label')"
   ]
  },
  {
   "cell_type": "code",
   "execution_count": 43,
   "metadata": {},
   "outputs": [
    {
     "data": {
      "text/plain": [
       "0.9465546882486311"
      ]
     },
     "execution_count": 43,
     "metadata": {},
     "output_type": "execute_result"
    }
   ],
   "source": [
    "evaluator.evaluate(predictions_lr)"
   ]
  }
 ],
 "metadata": {
  "kernelspec": {
   "display_name": "Python 2",
   "language": "python",
   "name": "python2"
  },
  "language_info": {
   "codemirror_mode": {
    "name": "ipython",
    "version": 2
   },
   "file_extension": ".py",
   "mimetype": "text/x-python",
   "name": "python",
   "nbconvert_exporter": "python",
   "pygments_lexer": "ipython2",
   "version": "2.7.15rc1"
  }
 },
 "nbformat": 4,
 "nbformat_minor": 2
}
